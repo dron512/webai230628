{
 "cells": [
  {
   "cell_type": "code",
   "execution_count": 3,
   "id": "83ea3681-4b19-4166-a73a-fa8723aeef93",
   "metadata": {},
   "outputs": [],
   "source": [
    "import konlpy"
   ]
  },
  {
   "cell_type": "code",
   "execution_count": 3,
   "id": "7e092e31-bc38-40c1-8373-8b3ba217d1a3",
   "metadata": {},
   "outputs": [
    {
     "data": {
      "text/html": [
       "<div>\n",
       "<style scoped>\n",
       "    .dataframe tbody tr th:only-of-type {\n",
       "        vertical-align: middle;\n",
       "    }\n",
       "\n",
       "    .dataframe tbody tr th {\n",
       "        vertical-align: top;\n",
       "    }\n",
       "\n",
       "    .dataframe thead th {\n",
       "        text-align: right;\n",
       "    }\n",
       "</style>\n",
       "<table border=\"1\" class=\"dataframe\">\n",
       "  <thead>\n",
       "    <tr style=\"text-align: right;\">\n",
       "      <th></th>\n",
       "      <th>labels</th>\n",
       "      <th>sentence</th>\n",
       "      <th>kor_sentence</th>\n",
       "    </tr>\n",
       "  </thead>\n",
       "  <tbody>\n",
       "    <tr>\n",
       "      <th>0</th>\n",
       "      <td>neutral</td>\n",
       "      <td>According to Gran, the company has no plans to...</td>\n",
       "      <td>Gran에 따르면, 그 회사는 회사가 성장하고 있는 곳이지만, 모든 생산을 러시아로...</td>\n",
       "    </tr>\n",
       "    <tr>\n",
       "      <th>1</th>\n",
       "      <td>neutral</td>\n",
       "      <td>Technopolis plans to develop in stages an area...</td>\n",
       "      <td>테크노폴리스는 컴퓨터 기술과 통신 분야에서 일하는 회사들을 유치하기 위해 10만 평...</td>\n",
       "    </tr>\n",
       "    <tr>\n",
       "      <th>2</th>\n",
       "      <td>negative</td>\n",
       "      <td>The international electronic industry company ...</td>\n",
       "      <td>국제 전자산업 회사인 엘코텍은 탈린 공장에서 수십 명의 직원을 해고했으며, 이전의 ...</td>\n",
       "    </tr>\n",
       "  </tbody>\n",
       "</table>\n",
       "</div>"
      ],
      "text/plain": [
       "     labels                                           sentence  \\\n",
       "0   neutral  According to Gran, the company has no plans to...   \n",
       "1   neutral  Technopolis plans to develop in stages an area...   \n",
       "2  negative  The international electronic industry company ...   \n",
       "\n",
       "                                        kor_sentence  \n",
       "0  Gran에 따르면, 그 회사는 회사가 성장하고 있는 곳이지만, 모든 생산을 러시아로...  \n",
       "1  테크노폴리스는 컴퓨터 기술과 통신 분야에서 일하는 회사들을 유치하기 위해 10만 평...  \n",
       "2  국제 전자산업 회사인 엘코텍은 탈린 공장에서 수십 명의 직원을 해고했으며, 이전의 ...  "
      ]
     },
     "execution_count": 3,
     "metadata": {},
     "output_type": "execute_result"
    }
   ],
   "source": [
    "import pandas as pd\n",
    "\n",
    "\n",
    "df = pd.read_csv('./news_data.csv')\n",
    "df.head(3)\n"
   ]
  },
  {
   "cell_type": "code",
   "execution_count": 4,
   "id": "5704957a-4514-4378-ad54-7fbfbe6f0496",
   "metadata": {},
   "outputs": [
    {
     "name": "stdout",
     "output_type": "stream",
     "text": [
      "dict_keys(['data', 'filenames', 'target_names', 'target', 'DESCR'])\n",
      "target 클래스값 분포도\n",
      " 10    999\n",
      "15    997\n",
      "8     996\n",
      "9     994\n",
      "11    991\n",
      "7     990\n",
      "13    990\n",
      "5     988\n",
      "14    987\n",
      "2     985\n",
      "12    984\n",
      "3     982\n",
      "6     975\n",
      "1     973\n",
      "4     963\n",
      "17    940\n",
      "16    910\n",
      "0     799\n",
      "18    775\n",
      "19    628\n",
      "Name: count, dtype: int64\n",
      "target 클래스값 이름\n",
      " ['alt.atheism', 'comp.graphics', 'comp.os.ms-windows.misc', 'comp.sys.ibm.pc.hardware', 'comp.sys.mac.hardware', 'comp.windows.x', 'misc.forsale', 'rec.autos', 'rec.motorcycles', 'rec.sport.baseball', 'rec.sport.hockey', 'sci.crypt', 'sci.electronics', 'sci.med', 'sci.space', 'soc.religion.christian', 'talk.politics.guns', 'talk.politics.mideast', 'talk.politics.misc', 'talk.religion.misc']\n",
      "  (0, 9843)\t1\n",
      "  (0, 11174)\t1\n",
      "  (0, 16809)\t1\n",
      "  (0, 17936)\t1\n",
      "  (0, 18915)\t2\n",
      "  (0, 21987)\t1\n",
      "  (0, 23480)\t1\n",
      "  (0, 24160)\t1\n",
      "  (0, 24635)\t1\n",
      "  (0, 25492)\t1\n",
      "  (0, 25590)\t1\n",
      "  (0, 25775)\t4\n",
      "  (0, 30074)\t1\n",
      "  (0, 31990)\t1\n",
      "  (0, 34809)\t1\n",
      "  (0, 34810)\t1\n",
      "  (0, 35974)\t1\n",
      "  (0, 37287)\t1\n",
      "  (0, 37335)\t1\n",
      "  (0, 41715)\t2\n",
      "  (0, 41724)\t1\n",
      "  (0, 41979)\t1\n",
      "  (0, 45885)\t1\n",
      "  (0, 46814)\t1\n",
      "  (0, 48754)\t2\n",
      "  :\t:\n",
      "  (0, 68080)\t2\n",
      "  (0, 68409)\t1\n",
      "  (0, 68781)\t1\n",
      "  (0, 68847)\t1\n",
      "  (0, 71850)\t1\n",
      "  (0, 73373)\t1\n",
      "  (0, 76471)\t1\n",
      "  (0, 77878)\t1\n",
      "  (0, 80623)\t1\n",
      "  (0, 81658)\t1\n",
      "  (0, 83426)\t1\n",
      "  (0, 84276)\t1\n",
      "  (0, 84538)\t1\n",
      "  (0, 88143)\t1\n",
      "  (0, 88532)\t6\n",
      "  (0, 88638)\t1\n",
      "  (0, 88767)\t4\n",
      "  (0, 89360)\t1\n",
      "  (0, 95844)\t4\n",
      "  (0, 96247)\t1\n",
      "  (0, 96395)\t1\n",
      "  (0, 96433)\t1\n",
      "  (0, 97181)\t1\n",
      "  (0, 99911)\t1\n",
      "  (0, 100208)\t1\n",
      "[[0 0 0 ... 0 0 0]]\n",
      "(11314, 101631)\n"
     ]
    }
   ],
   "source": [
    "from sklearn.datasets import fetch_20newsgroups\n",
    "import pandas as pd\n",
    "'''\n",
    "뉴스들의 문서를 보고 분류 하는 프로그램 \n",
    "20가지의 target 데이터가 있음.\n",
    "'''\n",
    "\n",
    "news_data = fetch_20newsgroups(subset='all',random_state=42)\n",
    "print(news_data.keys())\n",
    "\n",
    "print('target 클래스값 분포도\\n',pd.Series(news_data.target).value_counts())\n",
    "print('target 클래스값 이름\\n',news_data.target_names)\n",
    "'''\n",
    "1. 'alt.atheism', 2. 'comp.graphics', 3. 'comp.os.ms-windows.misc', \n",
    "4. 'comp.sys.ibm.pc.hardware', 5. 'comp.sys.mac.hardware', 6. 'comp.windows.x', \n",
    "7. 'misc.forsale', 8.'rec.autos', 9.'rec.motorcycles', 10.'rec.sport.baseball',\n",
    "12.'rec.sport.hockey', 13.'sci.crypt', 14.'sci.electronics', \n",
    "15.'sci.med', 16.'sci.space', 17.'soc.religion.christian', 18.'talk.politics.guns',\n",
    "19.'talk.politics.mideast', 20.'talk.politics.misc', 21.'talk.religion.misc'\n",
    "'''\n",
    "\n",
    "'''\n",
    "    i am a teacher.\n",
    "    i am a student.\n",
    "    i am a progammer.\n",
    "    \n",
    "'''\n",
    "# print(news_data.data[4],news_data.target[4],news_data.target_names[4])\n",
    "# print(news_data.data[5],news_data.target[5],news_data.target_names[5])\n",
    "# print(news_data.data[6],news_data.target[6],news_data.target_names[6])\n",
    "train_news = fetch_20newsgroups(subset='train',remove={'headers','footers','quotes'},random_state=42)\n",
    "x_train = train_news.data\n",
    "y_train = train_news.target\n",
    "test_news = fetch_20newsgroups(subset='test',remove={'headers','footers','quotes'},random_state=42)\n",
    "x_test = test_news.data\n",
    "y_test = test_news.target\n",
    "\n",
    "from sklearn.feature_extraction.text import CountVectorizer\n",
    "\n",
    "cnt_vect= CountVectorizer()\n",
    "cnt_vect.fit(x_train)\n",
    "x_train_vec = cnt_vect.transform(x_train)\n",
    "x_test_vec = cnt_vect.transform(x_test)\n",
    "\n",
    "print(x_train_vec[0])\n",
    "print(x_train_vec[0].todense())\n",
    "# print(cnt_vect.vocabulary_)\n",
    "print(x_train_vec.shape)\n",
    "\n",
    "# cnt = CountVectorizer()\n",
    "# train_data = ['i am a teacher.','i am a student.','i am a progammer.']\n",
    "# cnt.fit(train_data)\n",
    "# train_vec = cnt.transform(train_data)\n",
    "# print(train_vec)\n",
    "# print(train_vec.todense())\n",
    "# print(cnt.vocabulary_)\n"
   ]
  },
  {
   "cell_type": "code",
   "execution_count": 6,
   "id": "2d192e57-0bbc-4367-adb5-e5450601e962",
   "metadata": {},
   "outputs": [
    {
     "name": "stdout",
     "output_type": "stream",
     "text": [
      "(11314, 101631)\n",
      "(7532, 101631)\n"
     ]
    }
   ],
   "source": [
    "print(x_train_vec.shape)\n",
    "print(x_test_vec.shape)"
   ]
  },
  {
   "cell_type": "code",
   "execution_count": 25,
   "id": "43ceac1d-5690-4f56-a526-fdba23354b43",
   "metadata": {},
   "outputs": [
    {
     "name": "stdout",
     "output_type": "stream",
     "text": [
      "CountVectorized Logistic Regression 의 예측 정확도는 0.617\n"
     ]
    }
   ],
   "source": [
    "from sklearn.linear_model import LogisticRegression\n",
    "from sklearn.metrics import accuracy_score\n",
    "import warnings\n",
    "warnings.filterwarnings('ignore')\n",
    "\n",
    "# LogisticRegression을 이용하여 학습/예측/평가 수행. \n",
    "lr_clf = LogisticRegression(solver='liblinear')\n",
    "lr_clf.fit(x_train_vec , y_train)\n",
    "pred = lr_clf.predict(x_test_vec)\n",
    "print('CountVectorized Logistic Regression 의 예측 정확도는 {0:.3f}'.format(accuracy_score(y_test,pred)))"
   ]
  },
  {
   "cell_type": "code",
   "execution_count": null,
   "id": "7052c685-61bf-4f23-a52a-5692d52ff7aa",
   "metadata": {},
   "outputs": [
    {
     "name": "stdout",
     "output_type": "stream",
     "text": [
      "Epoch 1/20\n",
      "354/354 [==============================] - ETA: 0s - loss: 2.1526 - accuracy: 0.4870"
     ]
    },
    {
     "name": "stderr",
     "output_type": "stream",
     "text": [
      "C:\\Users\\KB\\PycharmProjects\\pythonProject\\venv\\Lib\\site-packages\\keras\\src\\engine\\training.py:3000: UserWarning: You are saving your model as an HDF5 file via `model.save()`. This file format is considered legacy. We recommend using instead the native Keras format, e.g. `model.save('my_model.keras')`.\n",
      "  saving_api.save_model(\n"
     ]
    },
    {
     "name": "stdout",
     "output_type": "stream",
     "text": [
      "354/354 [==============================] - 69s 191ms/step - loss: 2.1526 - accuracy: 0.4870 - val_loss: 1.6070 - val_accuracy: 0.6686\n",
      "Epoch 2/20\n",
      "354/354 [==============================] - 67s 190ms/step - loss: 0.9942 - accuracy: 0.7999 - val_loss: 1.3124 - val_accuracy: 0.6921\n",
      "Epoch 3/20\n",
      "354/354 [==============================] - 68s 193ms/step - loss: 0.5719 - accuracy: 0.8918 - val_loss: 1.3190 - val_accuracy: 0.6968\n",
      "Epoch 4/20\n",
      "224/354 [=================>............] - ETA: 26s - loss: 0.4081 - accuracy: 0.9240"
     ]
    }
   ],
   "source": [
    "import tensorflow as tf\n",
    "from tensorflow import keras\n",
    "\n",
    "tf.keras.utils.set_random_seed(42)\n",
    "tf.config.experimental.enable_op_determinism()\n",
    "\n",
    "model = keras.Sequential()\n",
    "\n",
    "# model.add(keras.layers.Flatten())\n",
    "model.add(keras.layers.Dense(100, activation='relu'))\n",
    "model.add(keras.layers.Dropout(0.4))\n",
    "model.add(keras.layers.Dense(20, activation='softmax'))\n",
    "model.compile(optimizer='adam', loss='sparse_categorical_crossentropy',\n",
    "              metrics='accuracy')\n",
    "\n",
    "checkpoint_cb = keras.callbacks.ModelCheckpoint('best-cnn-model.h5',\n",
    "                                                save_best_only=True)\n",
    "early_stopping_cb = keras.callbacks.EarlyStopping(patience=2,\n",
    "                                                  restore_best_weights=True)\n",
    "\n",
    "history = model.fit(x_train_vec, y_train, epochs=20,\n",
    "                    validation_data=(x_test_vec, y_test),\n",
    "                    callbacks=[checkpoint_cb, early_stopping_cb])\n",
    "\n"
   ]
  },
  {
   "cell_type": "code",
   "execution_count": 18,
   "id": "e83605d5-2905-4de0-aae3-3f670e29c970",
   "metadata": {},
   "outputs": [
    {
     "name": "stdout",
     "output_type": "stream",
     "text": [
      "236/236 [==============================] - 1s 2ms/step\n"
     ]
    },
    {
     "data": {
      "text/plain": [
       "(7532, 20)"
      ]
     },
     "execution_count": 18,
     "metadata": {},
     "output_type": "execute_result"
    }
   ],
   "source": [
    "predValue = model.predict(x_test_vec)\n",
    "predValue.shape"
   ]
  },
  {
   "cell_type": "code",
   "execution_count": 17,
   "id": "d980acfb-bafc-4158-88e0-6c6fb491ecc0",
   "metadata": {},
   "outputs": [
    {
     "data": {
      "text/plain": [
       "(7532, 101631)"
      ]
     },
     "execution_count": 17,
     "metadata": {},
     "output_type": "execute_result"
    }
   ],
   "source": [
    "x_test_vec.shape"
   ]
  },
  {
   "cell_type": "code",
   "execution_count": 23,
   "id": "52474a94-e2b8-497c-bab4-e3b7acfe5439",
   "metadata": {},
   "outputs": [
    {
     "name": "stdout",
     "output_type": "stream",
     "text": [
      "[0.01377176 0.04417975 0.03332818 0.04731777 0.2465502  0.00824444\n",
      " 0.02053057 0.3556251  0.02092342 0.04505857 0.00651263 0.02493765\n",
      " 0.03542341 0.02238971 0.03685133 0.01027261 0.00785737 0.00707268\n",
      " 0.00765739 0.00549546]\n",
      "7\n",
      "  (0, 12725)\t1\n",
      "  (0, 12796)\t2\n",
      "  (0, 17936)\t1\n",
      "  (0, 18091)\t1\n",
      "  (0, 18165)\t2\n",
      "  (0, 18521)\t1\n",
      "  (0, 19443)\t2\n",
      "  (0, 19756)\t1\n",
      "  (0, 22494)\t1\n",
      "  (0, 23622)\t2\n",
      "  (0, 24849)\t1\n",
      "  (0, 25590)\t1\n",
      "  (0, 29214)\t1\n",
      "  (0, 30074)\t1\n",
      "  (0, 31040)\t1\n",
      "  (0, 32737)\t1\n",
      "  (0, 33605)\t1\n",
      "  (0, 35974)\t1\n",
      "  (0, 39524)\t1\n",
      "  (0, 39835)\t1\n",
      "  (0, 41127)\t2\n",
      "  (0, 43217)\t1\n",
      "  (0, 45885)\t2\n",
      "  (0, 46088)\t2\n",
      "  (0, 47460)\t2\n",
      "  :\t:\n",
      "  (0, 67670)\t4\n",
      "  (0, 68080)\t1\n",
      "  (0, 68409)\t1\n",
      "  (0, 68781)\t1\n",
      "  (0, 70695)\t1\n",
      "  (0, 72905)\t1\n",
      "  (0, 81241)\t1\n",
      "  (0, 83888)\t1\n",
      "  (0, 84598)\t1\n",
      "  (0, 86307)\t1\n",
      "  (0, 88138)\t1\n",
      "  (0, 88501)\t1\n",
      "  (0, 88519)\t1\n",
      "  (0, 88532)\t8\n",
      "  (0, 88578)\t1\n",
      "  (0, 88694)\t1\n",
      "  (0, 88767)\t1\n",
      "  (0, 89092)\t2\n",
      "  (0, 89360)\t2\n",
      "  (0, 92955)\t1\n",
      "  (0, 93592)\t2\n",
      "  (0, 96391)\t1\n",
      "  (0, 97240)\t1\n",
      "  (0, 99908)\t1\n",
      "  (0, 100208)\t1\n",
      "7\n"
     ]
    }
   ],
   "source": [
    "import numpy as np\n",
    "\n",
    "print(predValue[0])\n",
    "print(np.argmax(predValue,axis=1)[0])\n",
    "print(x_test_vec[0])\n",
    "print(y_test[0])"
   ]
  }
 ],
 "metadata": {
  "kernelspec": {
   "display_name": "Python 3 (ipykernel)",
   "language": "python",
   "name": "python3"
  },
  "language_info": {
   "codemirror_mode": {
    "name": "ipython",
    "version": 3
   },
   "file_extension": ".py",
   "mimetype": "text/x-python",
   "name": "python",
   "nbconvert_exporter": "python",
   "pygments_lexer": "ipython3",
   "version": "3.11.4"
  }
 },
 "nbformat": 4,
 "nbformat_minor": 5
}
